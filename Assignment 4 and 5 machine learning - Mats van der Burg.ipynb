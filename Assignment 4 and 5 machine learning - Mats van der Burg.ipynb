{
 "cells": [
  {
   "cell_type": "markdown",
   "id": "04f884d3",
   "metadata": {},
   "source": [
    "# 1. Introduction"
   ]
  },
  {
   "cell_type": "markdown",
   "id": "28bcd9fb",
   "metadata": {},
   "source": [
    "For this exercise I have decided to work on the HR attrition data. I have some knowledge about this topic already because I know a Human Research Manager personally. Because we have spoken about HR analytics for a long time I think using an alogorithm on the topic of attrition is therefore definitely very interesting. Of the HR Attrition dataset provided I have chosen the variables: WorkLifeBalance, PerformanceRating, JobSatisfaction, MonthlyIncome, DistanceFromHome, JobInvolvement and YearsSinceLastPromotion. These variables definitely have an impact on the attrition of some people. Aspects like the lack of promotion and a long distance from home can have a significant impact on the view of the employee both on now and on future possibilities."
   ]
  },
  {
   "cell_type": "markdown",
   "id": "563fc7e8",
   "metadata": {},
   "source": [
    "# 2. Data cleaning"
   ]
  },
  {
   "cell_type": "code",
   "execution_count": 27,
   "id": "802a7ed2",
   "metadata": {},
   "outputs": [],
   "source": [
    "import seaborn as sns\n",
    "from sklearn import metrics\n",
    "import numpy as np\n",
    "import sklearn as sk\n",
    "import pandas as pd\n",
    "import matplotlib.pyplot as plt\n",
    "from sklearn.model_selection import train_test_split"
   ]
  },
  {
   "cell_type": "code",
   "execution_count": 3,
   "id": "769c7517",
   "metadata": {},
   "outputs": [
    {
     "data": {
      "text/html": [
       "<div>\n",
       "<style scoped>\n",
       "    .dataframe tbody tr th:only-of-type {\n",
       "        vertical-align: middle;\n",
       "    }\n",
       "\n",
       "    .dataframe tbody tr th {\n",
       "        vertical-align: top;\n",
       "    }\n",
       "\n",
       "    .dataframe thead th {\n",
       "        text-align: right;\n",
       "    }\n",
       "</style>\n",
       "<table border=\"1\" class=\"dataframe\">\n",
       "  <thead>\n",
       "    <tr style=\"text-align: right;\">\n",
       "      <th></th>\n",
       "      <th>Age</th>\n",
       "      <th>Attrition</th>\n",
       "      <th>BusinessTravel</th>\n",
       "      <th>DailyRate</th>\n",
       "      <th>Department</th>\n",
       "      <th>DistanceFromHome</th>\n",
       "      <th>Education</th>\n",
       "      <th>EducationField</th>\n",
       "      <th>EmployeeCount</th>\n",
       "      <th>EmployeeNumber</th>\n",
       "      <th>...</th>\n",
       "      <th>RelationshipSatisfaction</th>\n",
       "      <th>StandardHours</th>\n",
       "      <th>StockOptionLevel</th>\n",
       "      <th>TotalWorkingYears</th>\n",
       "      <th>TrainingTimesLastYear</th>\n",
       "      <th>WorkLifeBalance</th>\n",
       "      <th>YearsAtCompany</th>\n",
       "      <th>YearsInCurrentRole</th>\n",
       "      <th>YearsSinceLastPromotion</th>\n",
       "      <th>YearsWithCurrManager</th>\n",
       "    </tr>\n",
       "  </thead>\n",
       "  <tbody>\n",
       "    <tr>\n",
       "      <th>0</th>\n",
       "      <td>41</td>\n",
       "      <td>Yes</td>\n",
       "      <td>Travel_Rarely</td>\n",
       "      <td>1102</td>\n",
       "      <td>Sales</td>\n",
       "      <td>1</td>\n",
       "      <td>2</td>\n",
       "      <td>Life Sciences</td>\n",
       "      <td>1</td>\n",
       "      <td>1</td>\n",
       "      <td>...</td>\n",
       "      <td>1</td>\n",
       "      <td>80</td>\n",
       "      <td>0</td>\n",
       "      <td>8</td>\n",
       "      <td>0</td>\n",
       "      <td>1</td>\n",
       "      <td>6</td>\n",
       "      <td>4</td>\n",
       "      <td>0</td>\n",
       "      <td>5</td>\n",
       "    </tr>\n",
       "    <tr>\n",
       "      <th>1</th>\n",
       "      <td>49</td>\n",
       "      <td>No</td>\n",
       "      <td>Travel_Frequently</td>\n",
       "      <td>279</td>\n",
       "      <td>Research &amp; Development</td>\n",
       "      <td>8</td>\n",
       "      <td>1</td>\n",
       "      <td>Life Sciences</td>\n",
       "      <td>1</td>\n",
       "      <td>2</td>\n",
       "      <td>...</td>\n",
       "      <td>4</td>\n",
       "      <td>80</td>\n",
       "      <td>1</td>\n",
       "      <td>10</td>\n",
       "      <td>3</td>\n",
       "      <td>3</td>\n",
       "      <td>10</td>\n",
       "      <td>7</td>\n",
       "      <td>1</td>\n",
       "      <td>7</td>\n",
       "    </tr>\n",
       "    <tr>\n",
       "      <th>2</th>\n",
       "      <td>37</td>\n",
       "      <td>Yes</td>\n",
       "      <td>Travel_Rarely</td>\n",
       "      <td>1373</td>\n",
       "      <td>Research &amp; Development</td>\n",
       "      <td>2</td>\n",
       "      <td>2</td>\n",
       "      <td>Other</td>\n",
       "      <td>1</td>\n",
       "      <td>4</td>\n",
       "      <td>...</td>\n",
       "      <td>2</td>\n",
       "      <td>80</td>\n",
       "      <td>0</td>\n",
       "      <td>7</td>\n",
       "      <td>3</td>\n",
       "      <td>3</td>\n",
       "      <td>0</td>\n",
       "      <td>0</td>\n",
       "      <td>0</td>\n",
       "      <td>0</td>\n",
       "    </tr>\n",
       "    <tr>\n",
       "      <th>3</th>\n",
       "      <td>33</td>\n",
       "      <td>No</td>\n",
       "      <td>Travel_Frequently</td>\n",
       "      <td>1392</td>\n",
       "      <td>Research &amp; Development</td>\n",
       "      <td>3</td>\n",
       "      <td>4</td>\n",
       "      <td>Life Sciences</td>\n",
       "      <td>1</td>\n",
       "      <td>5</td>\n",
       "      <td>...</td>\n",
       "      <td>3</td>\n",
       "      <td>80</td>\n",
       "      <td>0</td>\n",
       "      <td>8</td>\n",
       "      <td>3</td>\n",
       "      <td>3</td>\n",
       "      <td>8</td>\n",
       "      <td>7</td>\n",
       "      <td>3</td>\n",
       "      <td>0</td>\n",
       "    </tr>\n",
       "    <tr>\n",
       "      <th>4</th>\n",
       "      <td>27</td>\n",
       "      <td>No</td>\n",
       "      <td>Travel_Rarely</td>\n",
       "      <td>591</td>\n",
       "      <td>Research &amp; Development</td>\n",
       "      <td>2</td>\n",
       "      <td>1</td>\n",
       "      <td>Medical</td>\n",
       "      <td>1</td>\n",
       "      <td>7</td>\n",
       "      <td>...</td>\n",
       "      <td>4</td>\n",
       "      <td>80</td>\n",
       "      <td>1</td>\n",
       "      <td>6</td>\n",
       "      <td>3</td>\n",
       "      <td>3</td>\n",
       "      <td>2</td>\n",
       "      <td>2</td>\n",
       "      <td>2</td>\n",
       "      <td>2</td>\n",
       "    </tr>\n",
       "  </tbody>\n",
       "</table>\n",
       "<p>5 rows × 35 columns</p>\n",
       "</div>"
      ],
      "text/plain": [
       "   Age Attrition     BusinessTravel  DailyRate              Department  \\\n",
       "0   41       Yes      Travel_Rarely       1102                   Sales   \n",
       "1   49        No  Travel_Frequently        279  Research & Development   \n",
       "2   37       Yes      Travel_Rarely       1373  Research & Development   \n",
       "3   33        No  Travel_Frequently       1392  Research & Development   \n",
       "4   27        No      Travel_Rarely        591  Research & Development   \n",
       "\n",
       "   DistanceFromHome  Education EducationField  EmployeeCount  EmployeeNumber  \\\n",
       "0                 1          2  Life Sciences              1               1   \n",
       "1                 8          1  Life Sciences              1               2   \n",
       "2                 2          2          Other              1               4   \n",
       "3                 3          4  Life Sciences              1               5   \n",
       "4                 2          1        Medical              1               7   \n",
       "\n",
       "   ...  RelationshipSatisfaction StandardHours  StockOptionLevel  \\\n",
       "0  ...                         1            80                 0   \n",
       "1  ...                         4            80                 1   \n",
       "2  ...                         2            80                 0   \n",
       "3  ...                         3            80                 0   \n",
       "4  ...                         4            80                 1   \n",
       "\n",
       "   TotalWorkingYears  TrainingTimesLastYear WorkLifeBalance  YearsAtCompany  \\\n",
       "0                  8                      0               1               6   \n",
       "1                 10                      3               3              10   \n",
       "2                  7                      3               3               0   \n",
       "3                  8                      3               3               8   \n",
       "4                  6                      3               3               2   \n",
       "\n",
       "  YearsInCurrentRole  YearsSinceLastPromotion  YearsWithCurrManager  \n",
       "0                  4                        0                     5  \n",
       "1                  7                        1                     7  \n",
       "2                  0                        0                     0  \n",
       "3                  7                        3                     0  \n",
       "4                  2                        2                     2  \n",
       "\n",
       "[5 rows x 35 columns]"
      ]
     },
     "execution_count": 3,
     "metadata": {},
     "output_type": "execute_result"
    }
   ],
   "source": [
    "df = pd.read_csv('Attrition.csv') # first we read in the .csv file\n",
    "df.head()"
   ]
  },
  {
   "cell_type": "code",
   "execution_count": 4,
   "id": "eb4e6c98",
   "metadata": {},
   "outputs": [
    {
     "name": "stdout",
     "output_type": "stream",
     "text": [
      "Age\n",
      "Attrition\n",
      "BusinessTravel\n",
      "DailyRate\n",
      "Department\n",
      "DistanceFromHome\n",
      "Education\n",
      "EducationField\n",
      "EmployeeCount\n",
      "EmployeeNumber\n",
      "EnvironmentSatisfaction\n",
      "Gender\n",
      "HourlyRate\n",
      "JobInvolvement\n",
      "JobLevel\n",
      "JobRole\n",
      "JobSatisfaction\n",
      "MaritalStatus\n",
      "MonthlyIncome\n",
      "MonthlyRate\n",
      "NumCompaniesWorked\n",
      "Over18\n",
      "OverTime\n",
      "PercentSalaryHike\n",
      "PerformanceRating\n",
      "RelationshipSatisfaction\n",
      "StandardHours\n",
      "StockOptionLevel\n",
      "TotalWorkingYears\n",
      "TrainingTimesLastYear\n",
      "WorkLifeBalance\n",
      "YearsAtCompany\n",
      "YearsInCurrentRole\n",
      "YearsSinceLastPromotion\n",
      "YearsWithCurrManager\n"
     ]
    }
   ],
   "source": [
    "for col in df.columns: # lets loop over the columns to look at the data we have at hand\n",
    "    print(col) "
   ]
  },
  {
   "cell_type": "markdown",
   "id": "e41577e7",
   "metadata": {},
   "source": [
    "To cleanup the data lets first subset the most important values for atrition!"
   ]
  },
  {
   "cell_type": "code",
   "execution_count": 5,
   "id": "b40a77d7",
   "metadata": {},
   "outputs": [
    {
     "data": {
      "text/html": [
       "<div>\n",
       "<style scoped>\n",
       "    .dataframe tbody tr th:only-of-type {\n",
       "        vertical-align: middle;\n",
       "    }\n",
       "\n",
       "    .dataframe tbody tr th {\n",
       "        vertical-align: top;\n",
       "    }\n",
       "\n",
       "    .dataframe thead th {\n",
       "        text-align: right;\n",
       "    }\n",
       "</style>\n",
       "<table border=\"1\" class=\"dataframe\">\n",
       "  <thead>\n",
       "    <tr style=\"text-align: right;\">\n",
       "      <th></th>\n",
       "      <th>Attrition</th>\n",
       "      <th>WorkLifeBalance</th>\n",
       "      <th>PerformanceRating</th>\n",
       "      <th>JobSatisfaction</th>\n",
       "      <th>MonthlyIncome</th>\n",
       "      <th>DistanceFromHome</th>\n",
       "      <th>JobInvolvement</th>\n",
       "      <th>YearsSinceLastPromotion</th>\n",
       "    </tr>\n",
       "  </thead>\n",
       "  <tbody>\n",
       "    <tr>\n",
       "      <th>0</th>\n",
       "      <td>Yes</td>\n",
       "      <td>1</td>\n",
       "      <td>3</td>\n",
       "      <td>4</td>\n",
       "      <td>5993</td>\n",
       "      <td>1</td>\n",
       "      <td>3</td>\n",
       "      <td>0</td>\n",
       "    </tr>\n",
       "    <tr>\n",
       "      <th>1</th>\n",
       "      <td>No</td>\n",
       "      <td>3</td>\n",
       "      <td>4</td>\n",
       "      <td>2</td>\n",
       "      <td>5130</td>\n",
       "      <td>8</td>\n",
       "      <td>2</td>\n",
       "      <td>1</td>\n",
       "    </tr>\n",
       "    <tr>\n",
       "      <th>2</th>\n",
       "      <td>Yes</td>\n",
       "      <td>3</td>\n",
       "      <td>3</td>\n",
       "      <td>3</td>\n",
       "      <td>2090</td>\n",
       "      <td>2</td>\n",
       "      <td>2</td>\n",
       "      <td>0</td>\n",
       "    </tr>\n",
       "    <tr>\n",
       "      <th>3</th>\n",
       "      <td>No</td>\n",
       "      <td>3</td>\n",
       "      <td>3</td>\n",
       "      <td>3</td>\n",
       "      <td>2909</td>\n",
       "      <td>3</td>\n",
       "      <td>3</td>\n",
       "      <td>3</td>\n",
       "    </tr>\n",
       "    <tr>\n",
       "      <th>4</th>\n",
       "      <td>No</td>\n",
       "      <td>3</td>\n",
       "      <td>3</td>\n",
       "      <td>2</td>\n",
       "      <td>3468</td>\n",
       "      <td>2</td>\n",
       "      <td>3</td>\n",
       "      <td>2</td>\n",
       "    </tr>\n",
       "  </tbody>\n",
       "</table>\n",
       "</div>"
      ],
      "text/plain": [
       "  Attrition  WorkLifeBalance  PerformanceRating  JobSatisfaction  \\\n",
       "0       Yes                1                  3                4   \n",
       "1        No                3                  4                2   \n",
       "2       Yes                3                  3                3   \n",
       "3        No                3                  3                3   \n",
       "4        No                3                  3                2   \n",
       "\n",
       "   MonthlyIncome  DistanceFromHome  JobInvolvement  YearsSinceLastPromotion  \n",
       "0           5993                 1               3                        0  \n",
       "1           5130                 8               2                        1  \n",
       "2           2090                 2               2                        0  \n",
       "3           2909                 3               3                        3  \n",
       "4           3468                 2               3                        2  "
      ]
     },
     "execution_count": 5,
     "metadata": {},
     "output_type": "execute_result"
    }
   ],
   "source": [
    "df_subset = df[['Attrition', 'WorkLifeBalance', 'PerformanceRating', 'JobSatisfaction', 'MonthlyIncome', 'DistanceFromHome', 'JobInvolvement','YearsSinceLastPromotion']]\n",
    "df_subset.head() # print the subset of the filtered dataset"
   ]
  },
  {
   "cell_type": "code",
   "execution_count": 6,
   "id": "213325ea",
   "metadata": {},
   "outputs": [
    {
     "data": {
      "text/plain": [
       "<seaborn.axisgrid.FacetGrid at 0x22b243a08b0>"
      ]
     },
     "execution_count": 6,
     "metadata": {},
     "output_type": "execute_result"
    },
    {
     "data": {
      "image/png": "[encoded data removed]",
      "text/plain": [
       "<Figure size 360x360 with 1 Axes>"
      ]
     },
     "metadata": {
      "needs_background": "light"
     },
     "output_type": "display_data"
    }
   ],
   "source": [
    "sns.displot(df_subset['MonthlyIncome'], kde=False) #plot histogram of the MonthlyIncome"
   ]
  },
  {
   "cell_type": "markdown",
   "id": "2f4420ae",
   "metadata": {},
   "source": [
    "The MonthlyIncome histogram does not show a normal distribution. "
   ]
  },
  {
   "cell_type": "code",
   "execution_count": 7,
   "id": "16cce0b2",
   "metadata": {},
   "outputs": [
    {
     "data": {
      "text/plain": [
       "<seaborn.axisgrid.FacetGrid at 0x22b243aeb20>"
      ]
     },
     "execution_count": 7,
     "metadata": {},
     "output_type": "execute_result"
    },
    {
     "data": {
      "image/png": "[encoded data removed]",
      "text/plain": [
       "<Figure size 360x360 with 1 Axes>"
      ]
     },
     "metadata": {
      "needs_background": "light"
     },
     "output_type": "display_data"
    }
   ],
   "source": [
    "sns.displot(df_subset['DistanceFromHome'], kde=False) #plot histogram of DistanceFromHome"
   ]
  },
  {
   "cell_type": "markdown",
   "id": "5725370e",
   "metadata": {},
   "source": [
    "Looking at the data again it shows a histogram without outliers. This dataset does NOT seem to have unrealistic values which seem to be impossible. This meaning that the chosen HR dataset is already quite clean and doesn't seem to need any more work besides the analysis itself."
   ]
  },
  {
   "cell_type": "markdown",
   "id": "4814c391",
   "metadata": {},
   "source": [
    "# 3. Exploratory data analsys"
   ]
  },
  {
   "cell_type": "markdown",
   "id": "707662d2",
   "metadata": {},
   "source": [
    "Lets take a lot at the data a little bit more!"
   ]
  },
  {
   "cell_type": "code",
   "execution_count": 9,
   "id": "0f427a24",
   "metadata": {},
   "outputs": [
    {
     "data": {
      "text/plain": [
       "<AxesSubplot:xlabel='MonthlyIncome'>"
      ]
     },
     "execution_count": 9,
     "metadata": {},
     "output_type": "execute_result"
    },
    {
     "data": {
      "image/png": "[encoded data removed]",
      "text/plain": [
       "<Figure size 432x288 with 1 Axes>"
      ]
     },
     "metadata": {
      "needs_background": "light"
     },
     "output_type": "display_data"
    }
   ],
   "source": [
    "sns.boxplot(x=df_subset['MonthlyIncome']) # plot boxplot of MonthlyIncome"
   ]
  },
  {
   "cell_type": "markdown",
   "id": "01ae8eae",
   "metadata": {},
   "source": [
    "From the 'MonthlyIncome' boxplot it shows there are a lot of outliers on the data. Although with the basic theory of outliers you could make the decision to remove them. But we have to keep thinking. The outliers shown don't fit in the standard deviation, but that doesn't make it impossible. The basis of the statistics is to interpret results and not to bend them to what you already know. Meaning that removing these outliers would mean removing a lot of values that are definitely possible putting a big bias on this data analsyis. It is important not to bend reality to a statistical analysis. To preserve the trustworthiness I have therefore chosen not to remove them."
   ]
  },
  {
   "cell_type": "code",
   "execution_count": 10,
   "id": "503425f5",
   "metadata": {},
   "outputs": [
    {
     "data": {
      "text/plain": [
       "<AxesSubplot:xlabel='YearsSinceLastPromotion'>"
      ]
     },
     "execution_count": 10,
     "metadata": {},
     "output_type": "execute_result"
    },
    {
     "data": {
      "image/png": "[encoded data removed]",
      "text/plain": [
       "<Figure size 432x288 with 1 Axes>"
      ]
     },
     "metadata": {
      "needs_background": "light"
     },
     "output_type": "display_data"
    }
   ],
   "source": [
    "sns.boxplot(x=df_subset['YearsSinceLastPromotion']) # plot boxplot of YearsSinceLastPromotion"
   ]
  },
  {
   "cell_type": "markdown",
   "id": "bb92c241",
   "metadata": {},
   "source": [
    "The aforementioned theory also applies to the boxplot of YearsSinceLastPromotion."
   ]
  },
  {
   "cell_type": "code",
   "execution_count": 60,
   "id": "673c2b27",
   "metadata": {},
   "outputs": [
    {
     "data": {
      "text/plain": [
       "No     1233\n",
       "Yes     237\n",
       "Name: Attrition, dtype: int64"
      ]
     },
     "execution_count": 60,
     "metadata": {},
     "output_type": "execute_result"
    },
    {
     "data": {
      "image/png": "[encoded data removed]",
      "text/plain": [
       "<Figure size 360x360 with 1 Axes>"
      ]
     },
     "metadata": {
      "needs_background": "light"
     },
     "output_type": "display_data"
    }
   ],
   "source": [
    "sns.displot(df_subset['Attrition'], kde=False) #plot histogram of Attrition\n",
    "df_subset['Attrition'].value_counts()"
   ]
  },
  {
   "cell_type": "markdown",
   "id": "1c1a3427",
   "metadata": {},
   "source": [
    "The histogram doesn't provide us with any statistical insights but does give us a better idea about the data we are dealing with. As the data shows the amount of \"No\" attrition is much higher than \"Yes\""
   ]
  },
  {
   "cell_type": "markdown",
   "id": "9ecfff23",
   "metadata": {},
   "source": [
    "Now lets look at the correlations between the values!"
   ]
  },
  {
   "cell_type": "code",
   "execution_count": 18,
   "id": "532dd4a2",
   "metadata": {},
   "outputs": [
    {
     "data": {
      "text/html": [
       "<div>\n",
       "<style scoped>\n",
       "    .dataframe tbody tr th:only-of-type {\n",
       "        vertical-align: middle;\n",
       "    }\n",
       "\n",
       "    .dataframe tbody tr th {\n",
       "        vertical-align: top;\n",
       "    }\n",
       "\n",
       "    .dataframe thead th {\n",
       "        text-align: right;\n",
       "    }\n",
       "</style>\n",
       "<table border=\"1\" class=\"dataframe\">\n",
       "  <thead>\n",
       "    <tr style=\"text-align: right;\">\n",
       "      <th></th>\n",
       "      <th>WorkLifeBalance</th>\n",
       "      <th>PerformanceRating</th>\n",
       "      <th>JobSatisfaction</th>\n",
       "      <th>MonthlyIncome</th>\n",
       "      <th>DistanceFromHome</th>\n",
       "      <th>JobInvolvement</th>\n",
       "      <th>YearsSinceLastPromotion</th>\n",
       "      <th>No_attrition</th>\n",
       "      <th>Yes_attrition</th>\n",
       "    </tr>\n",
       "  </thead>\n",
       "  <tbody>\n",
       "    <tr>\n",
       "      <th>WorkLifeBalance</th>\n",
       "      <td>1.000000</td>\n",
       "      <td>0.002572</td>\n",
       "      <td>-0.019459</td>\n",
       "      <td>0.030683</td>\n",
       "      <td>-0.026556</td>\n",
       "      <td>-0.014617</td>\n",
       "      <td>0.008941</td>\n",
       "      <td>0.063939</td>\n",
       "      <td>-0.063939</td>\n",
       "    </tr>\n",
       "    <tr>\n",
       "      <th>PerformanceRating</th>\n",
       "      <td>0.002572</td>\n",
       "      <td>1.000000</td>\n",
       "      <td>0.002297</td>\n",
       "      <td>-0.017120</td>\n",
       "      <td>0.027110</td>\n",
       "      <td>-0.029071</td>\n",
       "      <td>0.017896</td>\n",
       "      <td>-0.002889</td>\n",
       "      <td>0.002889</td>\n",
       "    </tr>\n",
       "    <tr>\n",
       "      <th>JobSatisfaction</th>\n",
       "      <td>-0.019459</td>\n",
       "      <td>0.002297</td>\n",
       "      <td>1.000000</td>\n",
       "      <td>-0.007157</td>\n",
       "      <td>-0.003669</td>\n",
       "      <td>-0.021476</td>\n",
       "      <td>-0.018214</td>\n",
       "      <td>0.103481</td>\n",
       "      <td>-0.103481</td>\n",
       "    </tr>\n",
       "    <tr>\n",
       "      <th>MonthlyIncome</th>\n",
       "      <td>0.030683</td>\n",
       "      <td>-0.017120</td>\n",
       "      <td>-0.007157</td>\n",
       "      <td>1.000000</td>\n",
       "      <td>-0.017014</td>\n",
       "      <td>-0.015271</td>\n",
       "      <td>0.344978</td>\n",
       "      <td>0.159840</td>\n",
       "      <td>-0.159840</td>\n",
       "    </tr>\n",
       "    <tr>\n",
       "      <th>DistanceFromHome</th>\n",
       "      <td>-0.026556</td>\n",
       "      <td>0.027110</td>\n",
       "      <td>-0.003669</td>\n",
       "      <td>-0.017014</td>\n",
       "      <td>1.000000</td>\n",
       "      <td>0.008783</td>\n",
       "      <td>0.010029</td>\n",
       "      <td>-0.077924</td>\n",
       "      <td>0.077924</td>\n",
       "    </tr>\n",
       "    <tr>\n",
       "      <th>JobInvolvement</th>\n",
       "      <td>-0.014617</td>\n",
       "      <td>-0.029071</td>\n",
       "      <td>-0.021476</td>\n",
       "      <td>-0.015271</td>\n",
       "      <td>0.008783</td>\n",
       "      <td>1.000000</td>\n",
       "      <td>-0.024184</td>\n",
       "      <td>0.130016</td>\n",
       "      <td>-0.130016</td>\n",
       "    </tr>\n",
       "    <tr>\n",
       "      <th>YearsSinceLastPromotion</th>\n",
       "      <td>0.008941</td>\n",
       "      <td>0.017896</td>\n",
       "      <td>-0.018214</td>\n",
       "      <td>0.344978</td>\n",
       "      <td>0.010029</td>\n",
       "      <td>-0.024184</td>\n",
       "      <td>1.000000</td>\n",
       "      <td>0.033019</td>\n",
       "      <td>-0.033019</td>\n",
       "    </tr>\n",
       "    <tr>\n",
       "      <th>No_attrition</th>\n",
       "      <td>0.063939</td>\n",
       "      <td>-0.002889</td>\n",
       "      <td>0.103481</td>\n",
       "      <td>0.159840</td>\n",
       "      <td>-0.077924</td>\n",
       "      <td>0.130016</td>\n",
       "      <td>0.033019</td>\n",
       "      <td>1.000000</td>\n",
       "      <td>-1.000000</td>\n",
       "    </tr>\n",
       "    <tr>\n",
       "      <th>Yes_attrition</th>\n",
       "      <td>-0.063939</td>\n",
       "      <td>0.002889</td>\n",
       "      <td>-0.103481</td>\n",
       "      <td>-0.159840</td>\n",
       "      <td>0.077924</td>\n",
       "      <td>-0.130016</td>\n",
       "      <td>-0.033019</td>\n",
       "      <td>-1.000000</td>\n",
       "      <td>1.000000</td>\n",
       "    </tr>\n",
       "  </tbody>\n",
       "</table>\n",
       "</div>"
      ],
      "text/plain": [
       "                         WorkLifeBalance  PerformanceRating  JobSatisfaction  \\\n",
       "WorkLifeBalance                 1.000000           0.002572        -0.019459   \n",
       "PerformanceRating               0.002572           1.000000         0.002297   \n",
       "JobSatisfaction                -0.019459           0.002297         1.000000   \n",
       "MonthlyIncome                   0.030683          -0.017120        -0.007157   \n",
       "DistanceFromHome               -0.026556           0.027110        -0.003669   \n",
       "JobInvolvement                 -0.014617          -0.029071        -0.021476   \n",
       "YearsSinceLastPromotion         0.008941           0.017896        -0.018214   \n",
       "No_attrition                    0.063939          -0.002889         0.103481   \n",
       "Yes_attrition                  -0.063939           0.002889        -0.103481   \n",
       "\n",
       "                         MonthlyIncome  DistanceFromHome  JobInvolvement  \\\n",
       "WorkLifeBalance               0.030683         -0.026556       -0.014617   \n",
       "PerformanceRating            -0.017120          0.027110       -0.029071   \n",
       "JobSatisfaction              -0.007157         -0.003669       -0.021476   \n",
       "MonthlyIncome                 1.000000         -0.017014       -0.015271   \n",
       "DistanceFromHome             -0.017014          1.000000        0.008783   \n",
       "JobInvolvement               -0.015271          0.008783        1.000000   \n",
       "YearsSinceLastPromotion       0.344978          0.010029       -0.024184   \n",
       "No_attrition                  0.159840         -0.077924        0.130016   \n",
       "Yes_attrition                -0.159840          0.077924       -0.130016   \n",
       "\n",
       "                         YearsSinceLastPromotion  No_attrition  Yes_attrition  \n",
       "WorkLifeBalance                         0.008941      0.063939      -0.063939  \n",
       "PerformanceRating                       0.017896     -0.002889       0.002889  \n",
       "JobSatisfaction                        -0.018214      0.103481      -0.103481  \n",
       "MonthlyIncome                           0.344978      0.159840      -0.159840  \n",
       "DistanceFromHome                        0.010029     -0.077924       0.077924  \n",
       "JobInvolvement                         -0.024184      0.130016      -0.130016  \n",
       "YearsSinceLastPromotion                 1.000000      0.033019      -0.033019  \n",
       "No_attrition                            0.033019      1.000000      -1.000000  \n",
       "Yes_attrition                          -0.033019     -1.000000       1.000000  "
      ]
     },
     "execution_count": 18,
     "metadata": {},
     "output_type": "execute_result"
    }
   ],
   "source": [
    "df_subset.corr()"
   ]
  },
  {
   "cell_type": "markdown",
   "id": "439afa85",
   "metadata": {},
   "source": [
    "This table looks impressive but stores a lot of information which is pretty hard to interpret from one look. Lets make a visual pretenation the correlation. But looking at a correlation beforehand we can already make sort of a prediction of what the model is going to do. If there is a low correlation, how could the model be realistic?"
   ]
  },
  {
   "cell_type": "code",
   "execution_count": 19,
   "id": "27ef7bbb",
   "metadata": {},
   "outputs": [
    {
     "data": {
      "image/png": "[encoded data removed]",
      "text/plain": [
       "<Figure size 432x288 with 2 Axes>"
      ]
     },
     "metadata": {
      "needs_background": "light"
     },
     "output_type": "display_data"
    }
   ],
   "source": [
    "sns.heatmap(df_subset.corr());"
   ]
  },
  {
   "cell_type": "markdown",
   "id": "d6b3433e",
   "metadata": {},
   "source": [
    "# 4. Predictive model"
   ]
  },
  {
   "cell_type": "markdown",
   "id": "636e93e0",
   "metadata": {},
   "source": [
    "In simple terms k-nearest neighbor is an algorithm which can be used for classification as well as regression. By using the K-Nearest Neighbor (KNN) method it is therefore possible to predict the level of attrition. "
   ]
  },
  {
   "cell_type": "code",
   "execution_count": 14,
   "id": "4a84bc3a",
   "metadata": {},
   "outputs": [],
   "source": [
    "from sklearn.preprocessing import normalize\n",
    "\n",
    "X = df_subset[['WorkLifeBalance', 'PerformanceRating', 'JobSatisfaction', 'MonthlyIncome', 'DistanceFromHome', 'JobInvolvement','YearsSinceLastPromotion']] \n",
    "X = normalize(X) \n",
    "y = df_subset['Attrition'] \n",
    "X_train, X_test, y_train, y_test = train_test_split(X, y, test_size=0.3, random_state=1) "
   ]
  },
  {
   "cell_type": "markdown",
   "id": "7d66206f",
   "metadata": {},
   "source": [
    "In the code above the data was divided into several training en test sets."
   ]
  },
  {
   "cell_type": "code",
   "execution_count": 15,
   "id": "0b981930",
   "metadata": {},
   "outputs": [
    {
     "data": {
      "text/plain": [
       "0.800453514739229"
      ]
     },
     "execution_count": 15,
     "metadata": {},
     "output_type": "execute_result"
    }
   ],
   "source": [
    "from sklearn.neighbors import KNeighborsClassifier\n",
    "\n",
    "knn = KNeighborsClassifier(n_neighbors=5) \n",
    "knn = knn.fit(X_train, y_train) \n",
    "knn.score(X_test, y_test) "
   ]
  },
  {
   "cell_type": "markdown",
   "id": "8240237b",
   "metadata": {},
   "source": [
    "Results show that our model is around 80.0% accurate."
   ]
  },
  {
   "cell_type": "markdown",
   "id": "61672d72",
   "metadata": {},
   "source": [
    "# 5. Evaluation"
   ]
  },
  {
   "cell_type": "markdown",
   "id": "ab10cb9d",
   "metadata": {},
   "source": [
    "It is now important to evaluate the result that we got!"
   ]
  },
  {
   "cell_type": "code",
   "execution_count": 23,
   "id": "520d0585",
   "metadata": {},
   "outputs": [
    {
     "data": {
      "text/plain": [
       "array([[350,  14],\n",
       "       [ 74,   3]], dtype=int64)"
      ]
     },
     "execution_count": 23,
     "metadata": {},
     "output_type": "execute_result"
    }
   ],
   "source": [
    "from sklearn.metrics import confusion_matrix\n",
    "\n",
    "y_test_pred = knn.predict(X_test) \n",
    "cm = confusion_matrix(y_test, y_test_pred) \n",
    "cm"
   ]
  },
  {
   "cell_type": "code",
   "execution_count": 25,
   "id": "ddb9a26b",
   "metadata": {},
   "outputs": [
    {
     "data": {
      "text/html": [
       "<div>\n",
       "<style scoped>\n",
       "    .dataframe tbody tr th:only-of-type {\n",
       "        vertical-align: middle;\n",
       "    }\n",
       "\n",
       "    .dataframe tbody tr th {\n",
       "        vertical-align: top;\n",
       "    }\n",
       "\n",
       "    .dataframe thead th {\n",
       "        text-align: right;\n",
       "    }\n",
       "</style>\n",
       "<table border=\"1\" class=\"dataframe\">\n",
       "  <thead>\n",
       "    <tr style=\"text-align: right;\">\n",
       "      <th></th>\n",
       "      <th>False_predicted</th>\n",
       "      <th>True_predicted</th>\n",
       "    </tr>\n",
       "  </thead>\n",
       "  <tbody>\n",
       "    <tr>\n",
       "      <th>False_actual</th>\n",
       "      <td>350</td>\n",
       "      <td>14</td>\n",
       "    </tr>\n",
       "    <tr>\n",
       "      <th>True_actual</th>\n",
       "      <td>74</td>\n",
       "      <td>3</td>\n",
       "    </tr>\n",
       "  </tbody>\n",
       "</table>\n",
       "</div>"
      ],
      "text/plain": [
       "              False_predicted  True_predicted\n",
       "False_actual              350              14\n",
       "True_actual                74               3"
      ]
     },
     "execution_count": 25,
     "metadata": {},
     "output_type": "execute_result"
    }
   ],
   "source": [
    "conf_matrix = pd.DataFrame(cm, index=['False_actual','True_actual'], columns = ['False_predicted','True_predicted']) \n",
    "conf_matrix"
   ]
  },
  {
   "cell_type": "markdown",
   "id": "619f5fd8",
   "metadata": {},
   "source": [
    "The confusion matrix above shows us some really interesting data. Let's interpret them! So lets start with the false_actual. There we 364 (350 + 14) values False_actual. Our model predicted that 350 were actually false which turned out to be (true positive). But 14 were false and we predicted them to be true (type 1 error - false positive). After that we have we predicted 73 to be false but they were actually true (type 2 error - false negative). 3 of the values we predicted to be true were actually true (true negative)"
   ]
  },
  {
   "cell_type": "code",
   "execution_count": 58,
   "id": "f302d576",
   "metadata": {},
   "outputs": [
    {
     "name": "stdout",
     "output_type": "stream",
     "text": [
      "0.800453514739229\n",
      "0.71215404400754\n",
      "0.800453514739229\n"
     ]
    }
   ],
   "source": [
    "#print accuracy of model\n",
    "print(metrics.accuracy_score(y_test, y_test_pred))\n",
    "\n",
    "#print precision value of model\n",
    "print(metrics.precision_score(y_test, y_test_pred, average='weighted'))\n",
    "\n",
    "#print recall value of model\n",
    "print(metrics.recall_score(y_test, y_test_pred, average='weighted'))"
   ]
  },
  {
   "cell_type": "markdown",
   "id": "f1c02541",
   "metadata": {},
   "source": [
    "The accuracy is around 80% which is pretty good but could definitely be improved. The accuracy pretty much tells us, if we have a 100 cases, the model will get 80% correct. (should be as high as possible)\n",
    "\n",
    "The precision of our model tells us: of the values we predicted as true how many actually were true? (should without saying be as high as possible). In this case 71.2%\n",
    "\n",
    "Recall pretty much tells us: from all the amounts of true - how many were actually predicted correctly? In this case, 80.0%"
   ]
  },
  {
   "cell_type": "markdown",
   "id": "cf17f0f4",
   "metadata": {},
   "source": [
    "# 6. Conclusion"
   ]
  },
  {
   "cell_type": "markdown",
   "id": "a59062e2",
   "metadata": {},
   "source": [
    "What can we conclude from all of this? The conclusion is that we made a model with a pretty good prediction power. Although it could definitely be a lot higher, more in the 95%+ range. It is a good start and shows some potential. Reccomendations for new research could be to do more in depth research about correlations between variables and pick ones more suitable. Maybe implement a different algorithm to get a better result."
   ]
  },
  {
   "cell_type": "code",
   "execution_count": null,
   "id": "4393c7a7",
   "metadata": {},
   "outputs": [],
   "source": []
  }
 ],
 "metadata": {
  "kernelspec": {
   "display_name": "Python 3 (ipykernel)",
   "language": "python",
   "name": "python3"
  },
  "language_info": {
   "codemirror_mode": {
    "name": "ipython",
    "version": 3
   },
   "file_extension": ".py",
   "mimetype": "text/x-python",
   "name": "python",
   "nbconvert_exporter": "python",
   "pygments_lexer": "ipython3",
   "version": "3.9.7"
  }
 },
 "nbformat": 4,
 "nbformat_minor": 5
}
